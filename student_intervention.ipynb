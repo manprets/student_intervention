{
 "metadata": {
  "kernelspec": {
   "display_name": "Python 2",
   "language": "python",
   "name": "python2"
  },
  "language_info": {
   "codemirror_mode": {
    "name": "ipython",
    "version": 2
   },
   "file_extension": ".py",
   "mimetype": "text/x-python",
   "name": "python",
   "nbconvert_exporter": "python",
   "pygments_lexer": "ipython2",
   "version": "2.7.11"
  },
  "name": "",
  "signature": "sha256:bf795a6398933dc4abdc92ef92f2285b480aa0668ae6e2e675fe12b489395676"
 },
 "nbformat": 3,
 "nbformat_minor": 0,
 "worksheets": [
  {
   "cells": [
    {
     "cell_type": "markdown",
     "metadata": {},
     "source": [
      "# Machine Learning Engineer Nanodegree\n",
      "## Supervised Learning\n",
      "## Project 2: Building a Student Intervention System"
     ]
    },
    {
     "cell_type": "markdown",
     "metadata": {},
     "source": [
      "Welcome to the second project of the Machine Learning Engineer Nanodegree! In this notebook, some template code has already been provided for you, and it will be your job to implement the additional functionality necessary to successfully complete this project. Sections that begin with **'Implementation'** in the header indicate that the following block of code will require additional functionality which you must provide. Instructions will be provided for each section and the specifics of the implementation are marked in the code block with a `'TODO'` statement. Please be sure to read the instructions carefully!\n",
      "\n",
      "In addition to implementing code, there will be questions that you must answer which relate to the project and your implementation. Each section where you will answer a question is preceded by a **'Question X'** header. Carefully read each question and provide thorough answers in the following text boxes that begin with **'Answer:'**. Your project submission will be evaluated based on your answers to each of the questions and the implementation you provide.  \n",
      "\n",
      ">**Note:** Code and Markdown cells can be executed using the **Shift + Enter** keyboard shortcut. In addition, Markdown cells can be edited by typically double-clicking the cell to enter edit mode."
     ]
    },
    {
     "cell_type": "markdown",
     "metadata": {},
     "source": [
      "### Question 1 - Classification vs. Regression\n",
      "*Your goal for this project is to identify students who might need early intervention before they fail to graduate. Which type of supervised learning problem is this, classification or regression? Why?*"
     ]
    },
    {
     "cell_type": "markdown",
     "metadata": {},
     "source": [
      "**Answer: **\n",
      "This project deals with classification problem.\n",
      "\n",
      "The output of the analysis would be indicate if a student might require an early intervention or not.\n",
      "The output here is clearly binary in nature.\n",
      "Hence, the problem we are solving here is classification.\n",
      "\n",
      "Regression as an algorithm results in a line and has continuous output, which is clearly not applicable for this project."
     ]
    },
    {
     "cell_type": "markdown",
     "metadata": {},
     "source": [
      "## Exploring the Data\n",
      "Run the code cell below to load necessary Python libraries and load the student data. Note that the last column from this dataset, `'passed'`, will be our target label (whether the student graduated or didn't graduate). All other columns are features about each student."
     ]
    },
    {
     "cell_type": "code",
     "collapsed": false,
     "input": [
      "# Import libraries\n",
      "import numpy as np\n",
      "import pandas as pd\n",
      "from time import time\n",
      "from sklearn.metrics import f1_score\n",
      "\n",
      "# Read student data\n",
      "student_data = pd.read_csv(\"student-data.csv\")\n",
      "print \"Student data read successfully!\""
     ],
     "language": "python",
     "metadata": {},
     "outputs": [
      {
       "output_type": "stream",
       "stream": "stdout",
       "text": [
        "Student data read successfully!\n"
       ]
      }
     ],
     "prompt_number": 1
    },
    {
     "cell_type": "markdown",
     "metadata": {},
     "source": [
      "### Implementation: Data Exploration\n",
      "Let's begin by investigating the dataset to determine how many students we have information on, and learn about the graduation rate among these students. In the code cell below, you will need to compute the following:\n",
      "- The total number of students, `n_students`.\n",
      "- The total number of features for each student, `n_features`.\n",
      "- The number of those students who passed, `n_passed`.\n",
      "- The number of those students who failed, `n_failed`.\n",
      "- The graduation rate of the class, `grad_rate`, in percent (%).\n"
     ]
    },
    {
     "cell_type": "code",
     "collapsed": false,
     "input": [
      "print student_data.shape\n",
      "from IPython.display import display\n",
      "\n",
      "# Print the first few entries of student data\n",
      "display(student_data.head())\n",
      "\n",
      "# TODO: Calculate number of students\n",
      "n_students = student_data.shape[0]\n",
      "\n",
      "# TODO: Calculate number of features\n",
      "n_features = student_data.shape[1]-1 # as passed is the target column\n",
      "\n",
      "# TODO: Calculate passing students\n",
      "n_passed = sum(student_data['passed']=='yes')\n",
      "\n",
      "# TODO: Calculate failing students\n",
      "n_failed = sum(student_data['passed']=='no')\n",
      "\n",
      "# TODO: Calculate graduation rate\n",
      "grad_rate = (100.0*n_passed)/n_students;\n",
      "\n",
      "# Print the results\n",
      "print \"Total number of students: {}\".format(n_students)\n",
      "print \"Number of features: {}\".format(n_features)\n",
      "print \"Number of students who passed: {}\".format(n_passed)\n",
      "print \"Number of students who failed: {}\".format(n_failed)\n",
      "print \"Graduation rate of the class: {:.2f}%\".format(grad_rate)"
     ],
     "language": "python",
     "metadata": {},
     "outputs": [
      {
       "output_type": "stream",
       "stream": "stdout",
       "text": [
        "(395, 31)\n"
       ]
      },
      {
       "html": [
        "<div style=\"max-width:1500px;overflow:auto;\">\n",
        "<table border=\"1\" class=\"dataframe\">\n",
        "  <thead>\n",
        "    <tr style=\"text-align: right;\">\n",
        "      <th></th>\n",
        "      <th>school</th>\n",
        "      <th>sex</th>\n",
        "      <th>age</th>\n",
        "      <th>address</th>\n",
        "      <th>famsize</th>\n",
        "      <th>Pstatus</th>\n",
        "      <th>Medu</th>\n",
        "      <th>Fedu</th>\n",
        "      <th>Mjob</th>\n",
        "      <th>Fjob</th>\n",
        "      <th>...</th>\n",
        "      <th>internet</th>\n",
        "      <th>romantic</th>\n",
        "      <th>famrel</th>\n",
        "      <th>freetime</th>\n",
        "      <th>goout</th>\n",
        "      <th>Dalc</th>\n",
        "      <th>Walc</th>\n",
        "      <th>health</th>\n",
        "      <th>absences</th>\n",
        "      <th>passed</th>\n",
        "    </tr>\n",
        "  </thead>\n",
        "  <tbody>\n",
        "    <tr>\n",
        "      <th>0</th>\n",
        "      <td>GP</td>\n",
        "      <td>F</td>\n",
        "      <td>18</td>\n",
        "      <td>U</td>\n",
        "      <td>GT3</td>\n",
        "      <td>A</td>\n",
        "      <td>4</td>\n",
        "      <td>4</td>\n",
        "      <td>at_home</td>\n",
        "      <td>teacher</td>\n",
        "      <td>...</td>\n",
        "      <td>no</td>\n",
        "      <td>no</td>\n",
        "      <td>4</td>\n",
        "      <td>3</td>\n",
        "      <td>4</td>\n",
        "      <td>1</td>\n",
        "      <td>1</td>\n",
        "      <td>3</td>\n",
        "      <td>6</td>\n",
        "      <td>no</td>\n",
        "    </tr>\n",
        "    <tr>\n",
        "      <th>1</th>\n",
        "      <td>GP</td>\n",
        "      <td>F</td>\n",
        "      <td>17</td>\n",
        "      <td>U</td>\n",
        "      <td>GT3</td>\n",
        "      <td>T</td>\n",
        "      <td>1</td>\n",
        "      <td>1</td>\n",
        "      <td>at_home</td>\n",
        "      <td>other</td>\n",
        "      <td>...</td>\n",
        "      <td>yes</td>\n",
        "      <td>no</td>\n",
        "      <td>5</td>\n",
        "      <td>3</td>\n",
        "      <td>3</td>\n",
        "      <td>1</td>\n",
        "      <td>1</td>\n",
        "      <td>3</td>\n",
        "      <td>4</td>\n",
        "      <td>no</td>\n",
        "    </tr>\n",
        "    <tr>\n",
        "      <th>2</th>\n",
        "      <td>GP</td>\n",
        "      <td>F</td>\n",
        "      <td>15</td>\n",
        "      <td>U</td>\n",
        "      <td>LE3</td>\n",
        "      <td>T</td>\n",
        "      <td>1</td>\n",
        "      <td>1</td>\n",
        "      <td>at_home</td>\n",
        "      <td>other</td>\n",
        "      <td>...</td>\n",
        "      <td>yes</td>\n",
        "      <td>no</td>\n",
        "      <td>4</td>\n",
        "      <td>3</td>\n",
        "      <td>2</td>\n",
        "      <td>2</td>\n",
        "      <td>3</td>\n",
        "      <td>3</td>\n",
        "      <td>10</td>\n",
        "      <td>yes</td>\n",
        "    </tr>\n",
        "    <tr>\n",
        "      <th>3</th>\n",
        "      <td>GP</td>\n",
        "      <td>F</td>\n",
        "      <td>15</td>\n",
        "      <td>U</td>\n",
        "      <td>GT3</td>\n",
        "      <td>T</td>\n",
        "      <td>4</td>\n",
        "      <td>2</td>\n",
        "      <td>health</td>\n",
        "      <td>services</td>\n",
        "      <td>...</td>\n",
        "      <td>yes</td>\n",
        "      <td>yes</td>\n",
        "      <td>3</td>\n",
        "      <td>2</td>\n",
        "      <td>2</td>\n",
        "      <td>1</td>\n",
        "      <td>1</td>\n",
        "      <td>5</td>\n",
        "      <td>2</td>\n",
        "      <td>yes</td>\n",
        "    </tr>\n",
        "    <tr>\n",
        "      <th>4</th>\n",
        "      <td>GP</td>\n",
        "      <td>F</td>\n",
        "      <td>16</td>\n",
        "      <td>U</td>\n",
        "      <td>GT3</td>\n",
        "      <td>T</td>\n",
        "      <td>3</td>\n",
        "      <td>3</td>\n",
        "      <td>other</td>\n",
        "      <td>other</td>\n",
        "      <td>...</td>\n",
        "      <td>no</td>\n",
        "      <td>no</td>\n",
        "      <td>4</td>\n",
        "      <td>3</td>\n",
        "      <td>2</td>\n",
        "      <td>1</td>\n",
        "      <td>2</td>\n",
        "      <td>5</td>\n",
        "      <td>4</td>\n",
        "      <td>yes</td>\n",
        "    </tr>\n",
        "  </tbody>\n",
        "</table>\n",
        "<p>5 rows \u00d7 31 columns</p>\n",
        "</div>"
       ],
       "metadata": {},
       "output_type": "display_data",
       "text": [
        "  school sex  age address famsize Pstatus  Medu  Fedu     Mjob      Fjob  \\\n",
        "0     GP   F   18       U     GT3       A     4     4  at_home   teacher   \n",
        "1     GP   F   17       U     GT3       T     1     1  at_home     other   \n",
        "2     GP   F   15       U     LE3       T     1     1  at_home     other   \n",
        "3     GP   F   15       U     GT3       T     4     2   health  services   \n",
        "4     GP   F   16       U     GT3       T     3     3    other     other   \n",
        "\n",
        "   ...   internet romantic  famrel  freetime  goout Dalc Walc health absences  \\\n",
        "0  ...         no       no       4         3      4    1    1      3        6   \n",
        "1  ...        yes       no       5         3      3    1    1      3        4   \n",
        "2  ...        yes       no       4         3      2    2    3      3       10   \n",
        "3  ...        yes      yes       3         2      2    1    1      5        2   \n",
        "4  ...         no       no       4         3      2    1    2      5        4   \n",
        "\n",
        "  passed  \n",
        "0     no  \n",
        "1     no  \n",
        "2    yes  \n",
        "3    yes  \n",
        "4    yes  \n",
        "\n",
        "[5 rows x 31 columns]"
       ]
      },
      {
       "output_type": "stream",
       "stream": "stdout",
       "text": [
        "Total number of students: 395\n",
        "Number of features: 31\n",
        "Number of students who passed: 265\n",
        "Number of students who failed: 130\n",
        "Graduation rate of the class: 67.09%\n"
       ]
      }
     ],
     "prompt_number": 10
    },
    {
     "cell_type": "markdown",
     "metadata": {},
     "source": [
      "## Preparing the Data\n",
      "In this section, we will prepare the data for modeling, training and testing.\n",
      "\n",
      "### Identify feature and target columns\n",
      "It is often the case that the data you obtain contains non-numeric features. This can be a problem, as most machine learning algorithms expect numeric data to perform computations with.\n",
      "\n",
      "Run the code cell below to separate the student data into feature and target columns to see if any features are non-numeric."
     ]
    },
    {
     "cell_type": "code",
     "collapsed": false,
     "input": [
      "# Extract feature columns\n",
      "feature_cols = list(student_data.columns[:-1])\n",
      "\n",
      "# Extract target column 'passed'\n",
      "target_col = student_data.columns[-1] \n",
      "\n",
      "# Show the list of columns\n",
      "print \"Feature columns:\\n{}\".format(feature_cols)\n",
      "print \"\\nTarget column: {}\".format(target_col)\n",
      "\n",
      "# Separate the data into feature data and target data (X_all and y_all, respectively)\n",
      "X_all = student_data[feature_cols]\n",
      "y_all = student_data[target_col]\n",
      "\n",
      "# Show the feature information by printing the first five rows\n",
      "print \"\\nFeature values:\"\n",
      "print X_all.head()"
     ],
     "language": "python",
     "metadata": {},
     "outputs": [
      {
       "output_type": "stream",
       "stream": "stdout",
       "text": [
        "Feature columns:\n",
        "['school', 'sex', 'age', 'address', 'famsize', 'Pstatus', 'Medu', 'Fedu', 'Mjob', 'Fjob', 'reason', 'guardian', 'traveltime', 'studytime', 'failures', 'schoolsup', 'famsup', 'paid', 'activities', 'nursery', 'higher', 'internet', 'romantic', 'famrel', 'freetime', 'goout', 'Dalc', 'Walc', 'health', 'absences']\n",
        "\n",
        "Target column: passed\n",
        "\n",
        "Feature values:\n",
        "  school sex  age address famsize Pstatus  Medu  Fedu     Mjob      Fjob  \\\n",
        "0     GP   F   18       U     GT3       A     4     4  at_home   teacher   \n",
        "1     GP   F   17       U     GT3       T     1     1  at_home     other   \n",
        "2     GP   F   15       U     LE3       T     1     1  at_home     other   \n",
        "3     GP   F   15       U     GT3       T     4     2   health  services   \n",
        "4     GP   F   16       U     GT3       T     3     3    other     other   \n",
        "\n",
        "    ...    higher internet  romantic  famrel  freetime goout Dalc Walc health  \\\n",
        "0   ...       yes       no        no       4         3     4    1    1      3   \n",
        "1   ...       yes      yes        no       5         3     3    1    1      3   \n",
        "2   ...       yes      yes        no       4         3     2    2    3      3   \n",
        "3   ...       yes      yes       yes       3         2     2    1    1      5   \n",
        "4   ...       yes       no        no       4         3     2    1    2      5   \n",
        "\n",
        "  absences  \n",
        "0        6  \n",
        "1        4  \n",
        "2       10  \n",
        "3        2  \n",
        "4        4  \n",
        "\n",
        "[5 rows x 30 columns]\n"
       ]
      }
     ],
     "prompt_number": 11
    },
    {
     "cell_type": "markdown",
     "metadata": {},
     "source": [
      "### Preprocess Feature Columns\n",
      "\n",
      "As you can see, there are several non-numeric columns that need to be converted! Many of them are simply `yes`/`no`, e.g. `internet`. These can be reasonably converted into `1`/`0` (binary) values.\n",
      "\n",
      "Other columns, like `Mjob` and `Fjob`, have more than two values, and are known as _categorical variables_. The recommended way to handle such a column is to create as many columns as possible values (e.g. `Fjob_teacher`, `Fjob_other`, `Fjob_services`, etc.), and assign a `1` to one of them and `0` to all others.\n",
      "\n",
      "These generated columns are sometimes called _dummy variables_, and we will use the [`pandas.get_dummies()`](http://pandas.pydata.org/pandas-docs/stable/generated/pandas.get_dummies.html?highlight=get_dummies#pandas.get_dummies) function to perform this transformation. Run the code cell below to perform the preprocessing routine discussed in this section."
     ]
    },
    {
     "cell_type": "code",
     "collapsed": false,
     "input": [
      "def preprocess_features(X):\n",
      "    ''' Preprocesses the student data and converts non-numeric binary variables into\n",
      "        binary (0/1) variables. Converts categorical variables into dummy variables. '''\n",
      "    \n",
      "    # Initialize new output DataFrame\n",
      "    output = pd.DataFrame(index = X.index)\n",
      "\n",
      "    # Investigate each feature column for the data\n",
      "    for col, col_data in X.iteritems():\n",
      "        \n",
      "        # If data type is non-numeric, replace all yes/no values with 1/0\n",
      "        if col_data.dtype == object:\n",
      "            col_data = col_data.replace(['yes', 'no'], [1, 0])\n",
      "\n",
      "        # If data type is categorical, convert to dummy variables\n",
      "        if col_data.dtype == object:\n",
      "            # Example: 'school' => 'school_GP' and 'school_MS'\n",
      "            col_data = pd.get_dummies(col_data, prefix = col)  \n",
      "        \n",
      "        # Collect the revised columns\n",
      "        output = output.join(col_data)\n",
      "    \n",
      "    return output\n",
      "\n",
      "X_all = preprocess_features(X_all)\n",
      "print \"Processed feature columns ({} total features):\\n{}\".format(len(X_all.columns), list(X_all.columns))"
     ],
     "language": "python",
     "metadata": {},
     "outputs": [
      {
       "output_type": "stream",
       "stream": "stdout",
       "text": [
        "Processed feature columns (48 total features):\n",
        "['school_GP', 'school_MS', 'sex_F', 'sex_M', 'age', 'address_R', 'address_U', 'famsize_GT3', 'famsize_LE3', 'Pstatus_A', 'Pstatus_T', 'Medu', 'Fedu', 'Mjob_at_home', 'Mjob_health', 'Mjob_other', 'Mjob_services', 'Mjob_teacher', 'Fjob_at_home', 'Fjob_health', 'Fjob_other', 'Fjob_services', 'Fjob_teacher', 'reason_course', 'reason_home', 'reason_other', 'reason_reputation', 'guardian_father', 'guardian_mother', 'guardian_other', 'traveltime', 'studytime', 'failures', 'schoolsup', 'famsup', 'paid', 'activities', 'nursery', 'higher', 'internet', 'romantic', 'famrel', 'freetime', 'goout', 'Dalc', 'Walc', 'health', 'absences']\n"
       ]
      }
     ],
     "prompt_number": 12
    },
    {
     "cell_type": "markdown",
     "metadata": {},
     "source": [
      "### Implementation: Training and Testing Data Split\n",
      "So far, we have converted all _categorical_ features into numeric values. For the next step, we split the data (both features and corresponding labels) into training and test sets. In the following code cell below, you will need to implement the following:\n",
      "- Randomly shuffle and split the data (`X_all`, `y_all`) into training and testing subsets.\n",
      "  - Use 300 training points (approximately 75%) and 95 testing points (approximately 25%).\n",
      "  - Set a `random_state` for the function(s) you use, if provided.\n",
      "  - Store the results in `X_train`, `X_test`, `y_train`, and `y_test`."
     ]
    },
    {
     "cell_type": "code",
     "collapsed": false,
     "input": [
      "# TODO: Import any additional functionality you may need here\n",
      "from sklearn.cross_validation import train_test_split, StratifiedKFold\n",
      "\n",
      "# TODO: Set the number of training points\n",
      "num_train = 300#int(round(n_students*0.75,3))\n",
      "\n",
      "# Set the number of testing points\n",
      "num_test = X_all.shape[0] - num_train\n",
      "\n",
      "# TODO: Shuffle and split the dataset into the number of training and testing points above\n",
      "StratifiedKFold(y, n_folds=2)\n",
      "\n",
      "X_train, X_test, y_train, y_test = train_test_split(X_all, y_all, train_size=num_train, random_state=31)\n",
      "# X_train = None\n",
      "# X_test = None\n",
      "# y_train = None\n",
      "# y_test = None\n",
      "\n",
      "# Show the results of the split\n",
      "print \"Training set has {} samples.\".format(X_train.shape[0])\n",
      "print \"Testing set has {} samples.\".format(X_test.shape[0])"
     ],
     "language": "python",
     "metadata": {},
     "outputs": [
      {
       "output_type": "stream",
       "stream": "stdout",
       "text": [
        "Training set has 300 samples.\n",
        "Testing set has 95 samples.\n"
       ]
      }
     ],
     "prompt_number": 21
    },
    {
     "cell_type": "markdown",
     "metadata": {},
     "source": [
      "## Training and Evaluating Models\n",
      "In this section, you will choose 3 supervised learning models that are appropriate for this problem and available in `scikit-learn`. You will first discuss the reasoning behind choosing these three models by considering what you know about the data and each model's strengths and weaknesses. You will then fit the model to varying sizes of training data (100 data points, 200 data points, and 300 data points) and measure the F<sub>1</sub> score. You will need to produce three tables (one for each model) that shows the training set size, training time, prediction time, F<sub>1</sub> score on the training set, and F<sub>1</sub> score on the testing set."
     ]
    },
    {
     "cell_type": "markdown",
     "metadata": {},
     "source": [
      "### Question 2 - Model Application\n",
      "*List three supervised learning models that are appropriate for this problem. What are the general applications of each model? What are their strengths and weaknesses? Given what you know about the data, why did you choose these models to be applied?*"
     ]
    },
    {
     "cell_type": "markdown",
     "metadata": {},
     "source": [
      "**Answer: **\n",
      "\n",
      "3 supervised learning models that seem appropriate here are:\n",
      "\n",
      "** Logistic regression: **\n",
      "    * Strengths: Very efficient, Easily scalable, Can avoid overfitting\n",
      "    * Weakness: Assumes problem to be linearly separable\n",
      "    * General Applications: Predict if a tumor is cancerous or beningn, Predicting bankruptcy\n",
      "\n",
      "** SVM: **\n",
      "    * Strengths: Can fit non-linear functions, Can avoid overfitting\n",
      "    * Weakness: Training is time inefficient, Does not scale well to more data\n",
      "    * General Applications: Text categorization, Image classification, Sentiment Analysis\n",
      "\n",
      "** Decision Trees: **\n",
      "    * Strengths: Easy to interpret\n",
      "    * Weakness: May overfit data, May converge at local minima\n",
      "    * General Applications: Predicting library book use, Characterization of Leiomyomatous Tumors, Star/Cosmic-Ray Classification in Hubble Space Telescope Images\n",
      "\n",
      "Each model chosen had a specific reason:\n",
      "\n",
      "** Logistic regression: **\n",
      "        * Input data is small in size\n",
      "        * It works well, if features are linear\n",
      "** SVM: **\n",
      "        * It can fit complex decision boundary(non-linear function)\n",
      "** Decision Tress: **\n",
      "        * It's easy to make inferences from this\n"
     ]
    },
    {
     "cell_type": "markdown",
     "metadata": {},
     "source": [
      "### Setup\n",
      "Run the code cell below to initialize three helper functions which you can use for training and testing the three supervised learning models you've chosen above. The functions are as follows:\n",
      "- `train_classifier` - takes as input a classifier and training data and fits the classifier to the data.\n",
      "- `predict_labels` - takes as input a fit classifier, features, and a target labeling and makes predictions using the F<sub>1</sub> score.\n",
      "- `train_predict` - takes as input a classifier, and the training and testing data, and performs `train_clasifier` and `predict_labels`.\n",
      " - This function will report the F<sub>1</sub> score for both the training and testing data separately."
     ]
    },
    {
     "cell_type": "code",
     "collapsed": false,
     "input": [
      "def train_classifier(clf, X_train, y_train):\n",
      "    ''' Fits a classifier to the training data. '''\n",
      "    \n",
      "    # Start the clock, train the classifier, then stop the clock\n",
      "    start = time()\n",
      "    clf.fit(X_train, y_train)\n",
      "    end = time()\n",
      "    \n",
      "    # store train time \n",
      "    train_time = round(end - start,3)\n",
      "    \n",
      "    # Print the results\n",
      "    print \"Trained model in {:.4f} seconds\".format(train_time)\n",
      "    return train_time\n",
      "\n",
      "    \n",
      "def predict_labels(clf, features, target):\n",
      "    ''' Makes predictions using a fit classifier based on F1 score. '''\n",
      "    \n",
      "    # Start the clock, make predictions, then stop the clock\n",
      "    start = time()\n",
      "    y_pred = clf.predict(features)\n",
      "    end = time()\n",
      "    \n",
      "    #store preiction time in pred_time\n",
      "    pred_time = round(end - start,4)\n",
      "    \n",
      "    # Print and return results\n",
      "    print \"Made predictions in {:.4f} seconds.\".format(pred_time)\n",
      "    \n",
      "#     return f1_score(target.values, y_pred, pos_label='yes')\n",
      "    F1_score = f1_score(target, y_pred, pos_label='yes')\n",
      "    F1_score = round(F1_score,4)\n",
      "    \n",
      "    return (F1_score, pred_time)\n",
      "\n",
      "def train_predict(clf, X_train, y_train, X_test, y_test):\n",
      "    ''' Train and predict using a classifer based on F1 score. '''\n",
      "    \n",
      "    # Indicate the classifier and the training set size\n",
      "    print \"Training a {} using a training set size of {}. . .\".format(clf.__class__.__name__, len(X_train))\n",
      "    \n",
      "    # Train the classifier\n",
      "    train_time = train_classifier(clf, X_train, y_train)\n",
      "    \n",
      "    f1_train, pred_time_train = predict_labels(clf, X_train, y_train)\n",
      "    f1_test,  pred_time_test  = predict_labels(clf, X_test, y_test)\n",
      "    \n",
      "    # Print the results of prediction for both training and testing\n",
      "    print \"F1 score for training set: {:.4f}.\".format(f1_train)\n",
      "    print \"F1 score for test set: {:.4f}.\".format(f1_test)\n",
      "    \n",
      "    return (f1_train, f1_test, pred_time_train, pred_time_test)"
     ],
     "language": "python",
     "metadata": {},
     "outputs": [],
     "prompt_number": 69
    },
    {
     "cell_type": "markdown",
     "metadata": {},
     "source": [
      "### Implementation: Model Performance Metrics\n",
      "With the predefined functions above, you will now import the three supervised learning models of your choice and run the `train_predict` function for each one. Remember that you will need to train and predict on each classifier for three different training set sizes: 100, 200, and 300. Hence, you should expect to have 9 different outputs below \u2014 3 for each model using the varying training set sizes. In the following code cell, you will need to implement the following:\n",
      "- Import the three supervised learning models you've discussed in the previous section.\n",
      "- Initialize the three models and store them in `clf_A`, `clf_B`, and `clf_C`.\n",
      " - Use a `random_state` for each model you use, if provided.\n",
      " - **Note:** Use the default settings for each model \u2014 you will tune one specific model in a later section.\n",
      "- Create the different training set sizes to be used to train each model.\n",
      " - *Do not reshuffle and resplit the data! The new training points should be drawn from `X_train` and `y_train`.*\n",
      "- Fit each model with each training set size and make predictions on the test set (9 in total).  \n",
      "**Note:** Three tables are provided after the following code cell which can be used to store your results."
     ]
    },
    {
     "cell_type": "code",
     "collapsed": false,
     "input": [
      "# TODO: Import the three supervised learning models from sklearn\n",
      "from sklearn import linear_model\n",
      "from sklearn import svm\n",
      "from sklearn import tree\n",
      "\n",
      "# TODO: Initialize the three models\n",
      "clf_A = linear_model.LogisticRegression()#logistic\n",
      "clf_B = svm.SVC()#Support Vector\n",
      "clf_C = tree.DecisionTreeClassifier()\n",
      "\n",
      "# TODO: Set up the training set sizes\n",
      "X_train_100 = X_train[0:100]\n",
      "y_train_100 = y_train[0:100]\n",
      "\n",
      "X_train_200 = X_train[0:200]\n",
      "y_train_200 = y_train[0:200]\n",
      "\n",
      "X_train_300 = X_train[0:300]\n",
      "y_train_300 = y_train[0:300]\n",
      "\n",
      "# TODO: Execute the 'train_predict' function for each classifier and each training set size\n",
      "#create list of classifiers and train_set so that looping is possible\n",
      "clf_set = [clf_A, clf_B, clf_C]\n",
      "X_train_set = [X_train_100, X_train_200, X_train_300]\n",
      "y_train_set = [y_train_100, y_train_200, y_train_300]\n",
      "\n",
      "#create reporting matrix to store train/test times train/test f1 scores\n",
      "report_mat = np.zeros((len(X_train_set)*len(clf_set), 4 + 2))#6  for clf index, num_train_pts, \n",
      "\n",
      "for jdx in range(len(clf_set)):\n",
      "    for idx in range(len(X_train_set)):\n",
      "        train_size = X_train_set[idx].shape[0]\n",
      "        print \"\\n\\nTraining set has {} samples.\".format(train_size)\n",
      "        \n",
      "        f1_train, f1_test, pred_time_train, pred_time_test = train_predict(clf_set[jdx], X_train_set[idx], y_train_set[idx], X_test, y_test)\n",
      "        report_mat[jdx+idx] = [jdx, train_size, pred_time_train, pred_time_test, f1_train, f1_test]\n",
      "\n",
      "# print report_mat\n"
     ],
     "language": "python",
     "metadata": {},
     "outputs": [
      {
       "output_type": "stream",
       "stream": "stdout",
       "text": [
        "\n",
        "\n",
        "Training set has 100 samples.\n",
        "Training a LogisticRegression using a training set size of 100. . .\n",
        "Trained model in 0.0020 seconds\n",
        "Made predictions in 0.0002 seconds.\n",
        "Made predictions in 0.0001 seconds.\n",
        "F1 score for training set: 0.8933.\n",
        "F1 score for test set: 0.7727.\n",
        "\n",
        "\n",
        "Training set has 200 samples.\n",
        "Training a LogisticRegression using a training set size of 200. . .\n",
        "Trained model in 0.0030 seconds\n",
        "Made predictions in 0.0001 seconds.\n",
        "Made predictions in 0.0001 seconds.\n",
        "F1 score for training set: 0.8235.\n",
        "F1 score for test set: 0.7500.\n",
        "\n",
        "\n",
        "Training set has 300 samples.\n",
        "Training a LogisticRegression using a training set size of 300. . .\n",
        "Trained model in 0.0030 seconds\n",
        "Made predictions in 0.0001 seconds.\n",
        "Made predictions in 0.0002 seconds.\n",
        "F1 score for training set: 0.8449.\n",
        "F1 score for test set: 0.7879.\n",
        "\n",
        "\n",
        "Training set has 100 samples.\n",
        "Training a SVC using a training set size of 100. . .\n",
        "Trained model in 0.0010 seconds\n",
        "Made predictions in 0.0008 seconds.\n",
        "Made predictions in 0.0007 seconds.\n",
        "F1 score for training set: 0.8313.\n",
        "F1 score for test set: 0.7843.\n",
        "\n",
        "\n",
        "Training set has 200 samples.\n",
        "Training a SVC using a training set size of 200. . .\n",
        "Trained model in 0.0080 seconds\n",
        "Made predictions in 0.0030 seconds.\n",
        "Made predictions in 0.0023 seconds.\n",
        "F1 score for training set: 0.8816.\n",
        "F1 score for test set: 0.7724.\n",
        "\n",
        "\n",
        "Training set has 300 samples.\n",
        "Training a SVC using a training set size of 300. . .\n",
        "Trained model in 0.0120 seconds"
       ]
      },
      {
       "output_type": "stream",
       "stream": "stdout",
       "text": [
        "\n",
        "Made predictions in 0.0073 seconds.\n",
        "Made predictions in 0.0020 seconds.\n",
        "F1 score for training set: 0.8644.\n",
        "F1 score for test set: 0.7755.\n",
        "\n",
        "\n",
        "Training set has 100 samples.\n",
        "Training a DecisionTreeClassifier using a training set size of 100. . .\n",
        "Trained model in 0.0010 seconds\n",
        "Made predictions in 0.0001 seconds.\n",
        "Made predictions in 0.0001 seconds.\n",
        "F1 score for training set: 1.0000.\n",
        "F1 score for test set: 0.7273.\n",
        "\n",
        "\n",
        "Training set has 200 samples.\n",
        "Training a DecisionTreeClassifier using a training set size of 200. . .\n",
        "Trained model in 0.0020 seconds\n",
        "Made predictions in 0.0001 seconds.\n",
        "Made predictions in 0.0001 seconds.\n",
        "F1 score for training set: 1.0000.\n",
        "F1 score for test set: 0.6387.\n",
        "\n",
        "\n",
        "Training set has 300 samples.\n",
        "Training a DecisionTreeClassifier using a training set size of 300. . .\n",
        "Trained model in 0.0030 seconds\n",
        "Made predictions in 0.0002 seconds.\n",
        "Made predictions in 0.0001 seconds.\n",
        "F1 score for training set: 1.0000.\n",
        "F1 score for test set: 0.6271.\n"
       ]
      }
     ],
     "prompt_number": 70
    },
    {
     "cell_type": "markdown",
     "metadata": {},
     "source": [
      "### Tabular Results\n",
      "Edit the cell below to see how a table can be designed in [Markdown](https://github.com/adam-p/markdown-here/wiki/Markdown-Cheatsheet#tables). You can record your results from above in the tables provided."
     ]
    },
    {
     "cell_type": "markdown",
     "metadata": {},
     "source": [
      "** Classifer 1 - Logistic Regression**  \n",
      "\n",
      "| Training Set Size | Prediction Time (train) | Prediction Time (test) | F1 Score (train) | F1 Score (test) |\n",
      "| :---------------: | :---------------------: | :--------------------: | :--------------: | :-------------: |\n",
      "| 100               |      0.0003 seconds     |    0.0002 seconds      |      0.8933      |      0.7727     |\n",
      "| 200               |      0.0001 seconds     |    0.0001 seconds      |      0.8235      |      0.7500     |\n",
      "| 300               |      0.0001 seconds     |    0.0001 seconds      |      0.8449      |      0.7879     |\n",
      "\n",
      "** Classifer 2 - Support Vector Machine**  \n",
      "\n",
      "| Training Set Size | Prediction Time (train) | Prediction Time (test) | F1 Score (train) | F1 Score (test) |\n",
      "| :---------------: | :---------------------: | :--------------------: | :--------------: | :-------------: |\n",
      "| 100               |      0.0008 seconds     |    0.0007 seconds      |      0.8313      |      0.7843     |\n",
      "| 200               |      0.0048 seconds     |    0.0014 seconds      |      0.8816      |      0.7724     |\n",
      "| 300               |      0.0085 seconds     |    0.0020 seconds      |      0.8644      |      0.7755     |\n",
      "\n",
      "** Classifer 3 - Decision Tree**  \n",
      "\n",
      "| Training Set Size | Prediction Time (train) | Prediction Time (test) | F1 Score (train) | F1 Score (test) |\n",
      "| :---------------: | :---------------------: | :--------------------: | :--------------: | :-------------: |\n",
      "| 100               |      0.0001 seconds     |    0.0001 seconds      |      1.0000      |      0.7059     |\n",
      "| 200               |      0.0001 seconds     |    0.0001 seconds      |      1.0000      |      0.6612     |\n",
      "| 300               |      0.0002 seconds     |    0.0001 seconds      |      1.0000      |      0.6667     |\n"
     ]
    },
    {
     "cell_type": "markdown",
     "metadata": {},
     "source": [
      "## Choosing the Best Model\n",
      "In this final section, you will choose from the three supervised learning models the *best* model to use on the student data. You will then perform a grid search optimization for the model over the entire training set (`X_train` and `y_train`) by tuning at least one parameter to improve upon the untuned model's F<sub>1</sub> score. "
     ]
    },
    {
     "cell_type": "markdown",
     "metadata": {},
     "source": [
      "### Question 3 - Chosing the Best Model\n",
      "*Based on the experiments you performed earlier, in one to two paragraphs, explain to the board of supervisors what single model you chose as the best model. Which model is generally the most appropriate based on the available data, limited resources, cost, and performance?*"
     ]
    },
    {
     "cell_type": "markdown",
     "metadata": {},
     "source": [
      "**Answer: **\n",
      "\n",
      "- Logistic Regression\n",
      "\n",
      "- The F1 score for Decision Tree is always 1 and it behaves poorly on test data. A F1 score of 1 indicates that the model fits to the train data perfectly indicating Overfitting. Hence, it is not a good fit.\n",
      "- Comparing Logistic Regression and SVM, prediction time for Logistic Regression is very small. Also, Logistic Regression is easy to scale and it behaves well with small dataset.\n",
      "\n",
      "- So considering the limitations like: small dataset, limited resources (computing power) and performance, I would recommend using Logistic Regression for predicting students that might require student intervention.\n"
     ]
    },
    {
     "cell_type": "markdown",
     "metadata": {},
     "source": [
      "### Question 4 - Model in Layman's Terms\n",
      "*In one to two paragraphs, explain to the board of directors in layman's terms how the final model chosen is supposed to work. For example if you've chosen to use a decision tree or a support vector machine, how does the model go about making a prediction?*"
     ]
    },
    {
     "cell_type": "markdown",
     "metadata": {},
     "source": [
      "**Answer: **\n",
      "\n",
      "*Model workings: The model (Logistic Regression) aims to find a mapping transformation or function between input features and the output column (passed here). The parameters of this function are calculated in a way so that the accuracy of the model (in predicting the right value of output column) on unseen data is maximized.*\n",
      "\n",
      "*The model first tries to calculate th probability that a particular student will pass based on student's input features. Based on that probability it classifies the student into passed or fail classes.*\n",
      "\n",
      "*Logistic Regression works in a similar way as Linear Regression. Let me explain Linear Regression first. In Linear Regression, we are given input and outut variables that are continuous. For example, X=height, Y=weight. Now, we try to fit a straight line to the input and output data(Height and weight). There could be multiple lines that may fit that data. But we aim to get the line that best fits the data using our criteria. In all practical applications, not all points will lie on that straight line. We then calculate the errors by which a particular line misses the target variable. We get to the best fit line by minimizing this error. We actually calculate the average of sum of squared errors and minimize this quantity. We train our data to fit a straight line. Inorder to predict, we use a new value of X and use the line to predict the Y value for the given X value. However, in the case of current problem we do not have a target column that is continuous. Our target column \"passed\" only takes 2 values (\"yes\" or \"no\"). We could use linear regression here but the line would not be an appropriate fit here. The slope of line would change with addition of new data making it un-robust. If we were to have a continuous variable to be our target column, we could use the framework for linear regression. In order to have a continuous output, we first linearly transform our input data (just like in linear regression) and then apply a sigmoid function on top of that. A sigmoid function always outputs a number that is between 0 and 1. SInce the output is always between 0 and 1, it can be thought as probability. When we train this model, we assume that positive examples belong to class \"yes\" and the transformed input be greater than 0 because sigmoid of a number greater than 0 is greater than 0.5. In probability terms, the chance of input being in the positive class (label:\"yes\") is greater than 0.5, hence it has to be in the positive class (label: yes).*\n",
      "\n",
      "*Prediction: Once we have trained the model with train data, we then have a transformation or mapping similar to what we have in the case of linear regression. We use this line equation or parameter set to calculate the transformed input variable. Applyting sigmoid fucntion on top of the transofrmed variable yields an output which is between 0 and 1 (which is the probability that the input belongs to positive class (label: yes). If the pronbaility is greater than 0.5, we classify orpredict the inpput to be in the positive class (;abel: yes), otherwise, we predict it to be in the negative class (label: no).*\n",
      "\n"
     ]
    },
    {
     "cell_type": "markdown",
     "metadata": {},
     "source": [
      "### Implementation: Model Tuning\n",
      "Fine tune the chosen model. Use grid search (`GridSearchCV`) with at least one important parameter tuned with at least 3 different values. You will need to use the entire training set for this. In the code cell below, you will need to implement the following:\n",
      "- Import [`sklearn.grid_search.gridSearchCV`](http://scikit-learn.org/stable/modules/generated/sklearn.grid_search.GridSearchCV.html) and [`sklearn.metrics.make_scorer`](http://scikit-learn.org/stable/modules/generated/sklearn.metrics.make_scorer.html).\n",
      "- Create a dictionary of parameters you wish to tune for the chosen model.\n",
      " - Example: `parameters = {'parameter' : [list of values]}`.\n",
      "- Initialize the classifier you've chosen and store it in `clf`.\n",
      "- Create the F<sub>1</sub> scoring function using `make_scorer` and store it in `f1_scorer`.\n",
      " - Set the `pos_label` parameter to the correct value!\n",
      "- Perform grid search on the classifier `clf` using `f1_scorer` as the scoring method, and store it in `grid_obj`.\n",
      "- Fit the grid search object to the training data (`X_train`, `y_train`), and store it in `grid_obj`."
     ]
    },
    {
     "cell_type": "code",
     "collapsed": false,
     "input": [
      "# TODO: Import 'gridSearchCV' and 'make_scorer'\n",
      "from sklearn.metrics import make_scorer\n",
      "from sklearn.grid_search import GridSearchCV\n",
      "\n",
      "# TODO: Create the parameters list you wish to tune\n",
      "parameters = {'C': [0.001, 0.01, 0.1, 1, 10, 100, 1000]}\n",
      "# parameters ={'C': [1, 10, 100, 1000], 'gamma': [0.001, 0.0001], 'kernel': ['rbf']}\n",
      "\n",
      "# TODO: Initialize the classifier\n",
      "clf = linear_model.LogisticRegression()\n",
      "# clf = svm.SVC()\n",
      "\n",
      "# TODO: Make an f1 scoring function using 'make_scorer' \n",
      "f1_scorer = make_scorer(f1_score, pos_label='yes')\n",
      "\n",
      "# TODO: Perform grid search on the classifier using the f1_scorer as the scoring method\n",
      "grid_obj = GridSearchCV(clf, param_grid=parameters, scoring=f1_scorer, cv=3)\n",
      "\n",
      "# TODO: Fit the grid search object to the training data and find the optimal parameters\n",
      "grid_obj.fit(X_train[0:300], y_train[0:300])\n",
      "\n",
      "# Get the estimator\n",
      "clf = grid_obj.best_estimator_\n",
      "\n",
      "# print grid_obj.get_params()\n",
      "\n",
      "f1_train, pred_time_train = predict_labels(clf, X_train[0:300], y_train[0:300])\n",
      "f1_test,  pred_time_test  = predict_labels(clf, X_test, y_test)\n",
      "\n",
      "# Report the final F1 score for training and testing after parameter tuning\n",
      "print \"Tuned model has a training F1 score of {:.4f}.\".format(f1_train)\n",
      "print \"Tuned model has a testing F1 score of {:.4f}.\".format(f1_test)"
     ],
     "language": "python",
     "metadata": {},
     "outputs": [
      {
       "output_type": "stream",
       "stream": "stdout",
       "text": [
        "Made predictions in 0.0001 seconds.\n",
        "Made predictions in 0.0001 seconds.\n",
        "Tuned model has a training F1 score of 0.8195.\n",
        "Tuned model has a testing F1 score of 0.7867.\n"
       ]
      }
     ],
     "prompt_number": 88
    },
    {
     "cell_type": "markdown",
     "metadata": {},
     "source": [
      "### Question 5 - Final F<sub>1</sub> Score\n",
      "*What is the final model's F<sub>1</sub> score for training and testing? How does that score compare to the untuned model?*"
     ]
    },
    {
     "cell_type": "markdown",
     "metadata": {},
     "source": [
      "**Answer: **\n",
      "\n",
      "Final Model's F1 score (test)  = 0.7867\n",
      "Final Model's F1 score (train) = 0.8195\n",
      "\n",
      "However, the train F1 score is smaller than what was acheived with untuned model (0.8933, 0.8235, 0.8449),\n",
      "But, the test F1 score is similar to what we achieved on untuned model (0.7879, 0.7727, 0.7500)\n",
      "\n",
      "The smaller train F1 score along with same level of test F1 score indicates that the model is successfull in avoiding overfitting.\n"
     ]
    },
    {
     "cell_type": "markdown",
     "metadata": {},
     "source": [
      "> **Note**: Once you have completed all of the code implementations and successfully answered each question above, you may finalize your work by exporting the iPython Notebook as an HTML document. You can do this by using the menu above and navigating to  \n",
      "**File -> Download as -> HTML (.html)**. Include the finished document along with this notebook as your submission."
     ]
    },
    {
     "cell_type": "code",
     "collapsed": false,
     "input": [],
     "language": "python",
     "metadata": {},
     "outputs": []
    }
   ],
   "metadata": {}
  }
 ]
}